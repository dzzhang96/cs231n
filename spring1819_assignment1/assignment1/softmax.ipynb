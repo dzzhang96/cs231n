{
 "cells": [
  {
   "cell_type": "markdown",
   "metadata": {
    "tags": [
     "pdf-title"
    ]
   },
   "source": [
    "# Softmax exercise\n",
    "\n",
    "*Complete and hand in this completed worksheet (including its outputs and any supporting code outside of the worksheet) with your assignment submission. For more details see the [assignments page](http://vision.stanford.edu/teaching/cs231n/assignments.html) on the course website.*\n",
    "\n",
    "This exercise is analogous to the SVM exercise. You will:\n",
    "\n",
    "- implement a fully-vectorized **loss function** for the Softmax classifier\n",
    "- implement the fully-vectorized expression for its **analytic gradient**\n",
    "- **check your implementation** with numerical gradient\n",
    "- use a validation set to **tune the learning rate and regularization** strength\n",
    "- **optimize** the loss function with **SGD**\n",
    "- **visualize** the final learned weights\n"
   ]
  },
  {
   "cell_type": "code",
   "execution_count": 1,
   "metadata": {
    "tags": [
     "pdf-ignore"
    ]
   },
   "outputs": [],
   "source": [
    "import random\n",
    "import numpy as np\n",
    "from cs231n.data_utils import load_CIFAR10\n",
    "import matplotlib.pyplot as plt\n",
    "\n",
    "%matplotlib inline\n",
    "plt.rcParams['figure.figsize'] = (10.0, 8.0) # set default size of plots\n",
    "plt.rcParams['image.interpolation'] = 'nearest'\n",
    "plt.rcParams['image.cmap'] = 'gray'\n",
    "\n",
    "# for auto-reloading extenrnal modules\n",
    "# see http://stackoverflow.com/questions/1907993/autoreload-of-modules-in-ipython\n",
    "%load_ext autoreload\n",
    "%autoreload 2"
   ]
  },
  {
   "cell_type": "code",
   "execution_count": 2,
   "metadata": {
    "tags": [
     "pdf-ignore"
    ]
   },
   "outputs": [
    {
     "name": "stdout",
     "output_type": "stream",
     "text": [
      "Train data shape:  (49000, 3073)\n",
      "Train labels shape:  (49000,)\n",
      "Validation data shape:  (1000, 3073)\n",
      "Validation labels shape:  (1000,)\n",
      "Test data shape:  (1000, 3073)\n",
      "Test labels shape:  (1000,)\n",
      "dev data shape:  (500, 3073)\n",
      "dev labels shape:  (500,)\n"
     ]
    }
   ],
   "source": [
    "def get_CIFAR10_data(num_training=49000, num_validation=1000, num_test=1000, num_dev=500):\n",
    "    \"\"\"\n",
    "    Load the CIFAR-10 dataset from disk and perform preprocessing to prepare\n",
    "    it for the linear classifier. These are the same steps as we used for the\n",
    "    SVM, but condensed to a single function.  \n",
    "    \"\"\"\n",
    "    # Load the raw CIFAR-10 data\n",
    "    cifar10_dir = 'cs231n/datasets/cifar-10-batches-py'\n",
    "    \n",
    "    # Cleaning up variables to prevent loading data multiple times (which may cause memory issue)\n",
    "    try:\n",
    "       del X_train, y_train\n",
    "       del X_test, y_test\n",
    "       print('Clear previously loaded data.')\n",
    "    except:\n",
    "       pass\n",
    "\n",
    "    X_train, y_train, X_test, y_test = load_CIFAR10(cifar10_dir)\n",
    "    \n",
    "    # subsample the data\n",
    "    mask = list(range(num_training, num_training + num_validation))\n",
    "    X_val = X_train[mask]\n",
    "    y_val = y_train[mask]\n",
    "    mask = list(range(num_training))\n",
    "    X_train = X_train[mask]\n",
    "    y_train = y_train[mask]\n",
    "    mask = list(range(num_test))\n",
    "    X_test = X_test[mask]\n",
    "    y_test = y_test[mask]\n",
    "    mask = np.random.choice(num_training, num_dev, replace=False)\n",
    "    X_dev = X_train[mask]\n",
    "    y_dev = y_train[mask]\n",
    "    \n",
    "    # Preprocessing: reshape the image data into rows\n",
    "    X_train = np.reshape(X_train, (X_train.shape[0], -1))\n",
    "    X_val = np.reshape(X_val, (X_val.shape[0], -1))\n",
    "    X_test = np.reshape(X_test, (X_test.shape[0], -1))\n",
    "    X_dev = np.reshape(X_dev, (X_dev.shape[0], -1))\n",
    "    \n",
    "    # Normalize the data: subtract the mean image\n",
    "    mean_image = np.mean(X_train, axis = 0)\n",
    "    X_train -= mean_image\n",
    "    X_val -= mean_image\n",
    "    X_test -= mean_image\n",
    "    X_dev -= mean_image\n",
    "    \n",
    "    # add bias dimension and transform into columns\n",
    "    X_train = np.hstack([X_train, np.ones((X_train.shape[0], 1))])\n",
    "    X_val = np.hstack([X_val, np.ones((X_val.shape[0], 1))])\n",
    "    X_test = np.hstack([X_test, np.ones((X_test.shape[0], 1))])\n",
    "    X_dev = np.hstack([X_dev, np.ones((X_dev.shape[0], 1))])\n",
    "    \n",
    "    return X_train, y_train, X_val, y_val, X_test, y_test, X_dev, y_dev\n",
    "\n",
    "\n",
    "# Invoke the above function to get our data.\n",
    "X_train, y_train, X_val, y_val, X_test, y_test, X_dev, y_dev = get_CIFAR10_data()\n",
    "print('Train data shape: ', X_train.shape)\n",
    "print('Train labels shape: ', y_train.shape)\n",
    "print('Validation data shape: ', X_val.shape)\n",
    "print('Validation labels shape: ', y_val.shape)\n",
    "print('Test data shape: ', X_test.shape)\n",
    "print('Test labels shape: ', y_test.shape)\n",
    "print('dev data shape: ', X_dev.shape)\n",
    "print('dev labels shape: ', y_dev.shape)"
   ]
  },
  {
   "cell_type": "markdown",
   "metadata": {},
   "source": [
    "## Softmax Classifier\n",
    "\n",
    "Your code for this section will all be written inside **cs231n/classifiers/softmax.py**. \n"
   ]
  },
  {
   "cell_type": "code",
   "execution_count": 3,
   "metadata": {},
   "outputs": [
    {
     "name": "stdout",
     "output_type": "stream",
     "text": [
      "loss: 2.350841\n",
      "sanity check: 2.302585\n"
     ]
    }
   ],
   "source": [
    "# First implement the naive softmax loss function with nested loops.\n",
    "# Open the file cs231n/classifiers/softmax.py and implement the\n",
    "# softmax_loss_naive function.\n",
    "\n",
    "from cs231n.classifiers.softmax import softmax_loss_naive\n",
    "import time\n",
    "\n",
    "# Generate a random softmax weight matrix and use it to compute the loss.\n",
    "W = np.random.randn(3073, 10) * 0.0001\n",
    "loss, grad = softmax_loss_naive(W, X_dev, y_dev, 0.0)\n",
    "\n",
    "# As a rough sanity check, our loss should be something close to -log(0.1).\n",
    "print('loss: %f' % loss)\n",
    "print('sanity check: %f' % (-np.log(0.1)))"
   ]
  },
  {
   "cell_type": "markdown",
   "metadata": {
    "tags": [
     "pdf-inline"
    ]
   },
   "source": [
    "**Inline Question 1**\n",
    "\n",
    "Why do we expect our loss to be close to -log(0.1)? Explain briefly.**\n",
    "\n",
    "$\\color{blue}{\\textit Your Answer:}$ *Since the weight matrix W is uniform randomly selected, the predicted probability of each class is uniform distribution and identically equals 1/10, where 10 is the number of classes. So the cross entroy for each example is -log(0.1), which should equal to the loss.* \n",
    "\n"
   ]
  },
  {
   "cell_type": "code",
   "execution_count": 4,
   "metadata": {},
   "outputs": [
    {
     "name": "stdout",
     "output_type": "stream",
     "text": [
      "numerical: 1.570732 analytic: 1.570732, relative error: 1.483059e-08\n",
      "numerical: -0.970161 analytic: -0.970161, relative error: 4.475054e-08\n",
      "numerical: -0.370116 analytic: -0.370116, relative error: 9.292000e-09\n",
      "numerical: -3.500328 analytic: -3.500328, relative error: 2.267031e-09\n",
      "numerical: 4.044505 analytic: 4.044505, relative error: 1.682686e-08\n",
      "numerical: 2.138794 analytic: 2.138794, relative error: 2.620732e-08\n",
      "numerical: -0.603688 analytic: -0.603688, relative error: 1.917315e-08\n",
      "numerical: 0.020512 analytic: 0.020512, relative error: 3.752859e-07\n",
      "numerical: 4.062196 analytic: 4.062196, relative error: 1.628979e-08\n",
      "numerical: 0.466356 analytic: 0.466356, relative error: 1.345402e-08\n",
      "numerical: 1.862342 analytic: 1.865049, relative error: 7.262858e-04\n",
      "numerical: -0.526831 analytic: -0.515603, relative error: 1.077127e-02\n",
      "numerical: -0.811702 analytic: -0.817739, relative error: 3.704976e-03\n",
      "numerical: 1.593094 analytic: 1.595502, relative error: 7.554706e-04\n",
      "numerical: -2.930819 analytic: -2.929955, relative error: 1.473843e-04\n",
      "numerical: 2.299539 analytic: 2.308524, relative error: 1.949833e-03\n",
      "numerical: 1.290721 analytic: 1.292594, relative error: 7.249461e-04\n",
      "numerical: 0.937954 analytic: 0.948363, relative error: 5.518506e-03\n",
      "numerical: 1.954460 analytic: 1.951453, relative error: 7.698829e-04\n",
      "numerical: -1.079647 analytic: -1.073782, relative error: 2.723601e-03\n"
     ]
    }
   ],
   "source": [
    "# Complete the implementation of softmax_loss_naive and implement a (naive)\n",
    "# version of the gradient that uses nested loops.\n",
    "loss, grad = softmax_loss_naive(W, X_dev, y_dev, 0.0)\n",
    "\n",
    "# As we did for the SVM, use numeric gradient checking as a debugging tool.\n",
    "# The numeric gradient should be close to the analytic gradient.\n",
    "from cs231n.gradient_check import grad_check_sparse\n",
    "f = lambda w: softmax_loss_naive(w, X_dev, y_dev, 0.0)[0]\n",
    "grad_numerical = grad_check_sparse(f, W, grad, 10)\n",
    "\n",
    "# similar to SVM case, do another gradient check with regularization\n",
    "loss, grad = softmax_loss_naive(W, X_dev, y_dev, 5e1)\n",
    "f = lambda w: softmax_loss_naive(w, X_dev, y_dev, 5e1)[0]\n",
    "grad_numerical = grad_check_sparse(f, W, grad, 10)"
   ]
  },
  {
   "cell_type": "code",
   "execution_count": 6,
   "metadata": {},
   "outputs": [
    {
     "name": "stdout",
     "output_type": "stream",
     "text": [
      "naive loss: 2.350841e+00 computed in 0.188887s\n",
      "vectorized loss: 2.350841e+00 computed in 0.004000s\n",
      "Loss difference: 0.000000\n",
      "Gradient difference: 0.000000\n"
     ]
    }
   ],
   "source": [
    "# Now that we have a naive implementation of the softmax loss function and its gradient,\n",
    "# implement a vectorized version in softmax_loss_vectorized.\n",
    "# The two versions should compute the same results, but the vectorized version should be\n",
    "# much faster.\n",
    "tic = time.time()\n",
    "loss_naive, grad_naive = softmax_loss_naive(W, X_dev, y_dev, 0.000005)\n",
    "toc = time.time()\n",
    "print('naive loss: %e computed in %fs' % (loss_naive, toc - tic))\n",
    "\n",
    "from cs231n.classifiers.softmax import softmax_loss_vectorized\n",
    "tic = time.time()\n",
    "loss_vectorized, grad_vectorized = softmax_loss_vectorized(W, X_dev, y_dev, 0.000005)\n",
    "toc = time.time()\n",
    "print('vectorized loss: %e computed in %fs' % (loss_vectorized, toc - tic))\n",
    "\n",
    "# As we did for the SVM, we use the Frobenius norm to compare the two versions\n",
    "# of the gradient.\n",
    "grad_difference = np.linalg.norm(grad_naive - grad_vectorized, ord='fro')\n",
    "print('Loss difference: %f' % np.abs(loss_naive - loss_vectorized))\n",
    "print('Gradient difference: %f' % grad_difference)"
   ]
  },
  {
   "cell_type": "code",
   "execution_count": 8,
   "metadata": {
    "tags": [
     "code"
    ]
   },
   "outputs": [
    {
     "name": "stdout",
     "output_type": "stream",
     "text": [
      "lr 1.000000e-07 reg 7.000000e+03 train accuracy: 0.371286 val accuracy: 0.385000\n",
      "lr 1.000000e-07 reg 8.000000e+03 train accuracy: 0.373204 val accuracy: 0.375000\n",
      "lr 1.000000e-07 reg 9.000000e+03 train accuracy: 0.373980 val accuracy: 0.395000\n",
      "lr 1.000000e-07 reg 1.000000e+04 train accuracy: 0.373857 val accuracy: 0.389000\n",
      "lr 1.000000e-07 reg 1.100000e+04 train accuracy: 0.374143 val accuracy: 0.387000\n",
      "lr 1.000000e-07 reg 1.200000e+04 train accuracy: 0.370327 val accuracy: 0.380000\n",
      "lr 1.000000e-07 reg 1.300000e+04 train accuracy: 0.364980 val accuracy: 0.372000\n",
      "lr 1.000000e-07 reg 4.700000e+04 train accuracy: 0.334633 val accuracy: 0.352000\n",
      "lr 1.000000e-07 reg 4.800000e+04 train accuracy: 0.324041 val accuracy: 0.345000\n",
      "lr 1.000000e-07 reg 4.900000e+04 train accuracy: 0.330061 val accuracy: 0.346000\n",
      "lr 1.000000e-07 reg 5.000000e+04 train accuracy: 0.331816 val accuracy: 0.351000\n",
      "lr 1.000000e-07 reg 5.100000e+04 train accuracy: 0.323592 val accuracy: 0.340000\n",
      "lr 1.000000e-07 reg 5.200000e+04 train accuracy: 0.331531 val accuracy: 0.336000\n",
      "lr 1.000000e-07 reg 5.300000e+04 train accuracy: 0.329367 val accuracy: 0.339000\n",
      "lr 2.000000e-07 reg 7.000000e+03 train accuracy: 0.382020 val accuracy: 0.390000\n",
      "lr 2.000000e-07 reg 8.000000e+03 train accuracy: 0.377735 val accuracy: 0.389000\n",
      "lr 2.000000e-07 reg 9.000000e+03 train accuracy: 0.375694 val accuracy: 0.381000\n",
      "lr 2.000000e-07 reg 1.000000e+04 train accuracy: 0.376327 val accuracy: 0.390000\n",
      "lr 2.000000e-07 reg 1.100000e+04 train accuracy: 0.370571 val accuracy: 0.383000\n",
      "lr 2.000000e-07 reg 1.200000e+04 train accuracy: 0.369245 val accuracy: 0.380000\n",
      "lr 2.000000e-07 reg 1.300000e+04 train accuracy: 0.366469 val accuracy: 0.387000\n",
      "lr 2.000000e-07 reg 4.700000e+04 train accuracy: 0.337571 val accuracy: 0.347000\n",
      "lr 2.000000e-07 reg 4.800000e+04 train accuracy: 0.325939 val accuracy: 0.341000\n",
      "lr 2.000000e-07 reg 4.900000e+04 train accuracy: 0.334837 val accuracy: 0.354000\n",
      "lr 2.000000e-07 reg 5.000000e+04 train accuracy: 0.327551 val accuracy: 0.345000\n",
      "lr 2.000000e-07 reg 5.100000e+04 train accuracy: 0.333286 val accuracy: 0.352000\n",
      "lr 2.000000e-07 reg 5.200000e+04 train accuracy: 0.332918 val accuracy: 0.345000\n",
      "lr 2.000000e-07 reg 5.300000e+04 train accuracy: 0.322510 val accuracy: 0.343000\n",
      "lr 5.000000e-07 reg 7.000000e+03 train accuracy: 0.380857 val accuracy: 0.392000\n",
      "lr 5.000000e-07 reg 8.000000e+03 train accuracy: 0.376000 val accuracy: 0.393000\n",
      "lr 5.000000e-07 reg 9.000000e+03 train accuracy: 0.373061 val accuracy: 0.370000\n",
      "lr 5.000000e-07 reg 1.000000e+04 train accuracy: 0.372184 val accuracy: 0.371000\n",
      "lr 5.000000e-07 reg 1.100000e+04 train accuracy: 0.366408 val accuracy: 0.381000\n",
      "lr 5.000000e-07 reg 1.200000e+04 train accuracy: 0.367673 val accuracy: 0.382000\n",
      "lr 5.000000e-07 reg 1.300000e+04 train accuracy: 0.364837 val accuracy: 0.377000\n",
      "lr 5.000000e-07 reg 4.700000e+04 train accuracy: 0.329367 val accuracy: 0.347000\n",
      "lr 5.000000e-07 reg 4.800000e+04 train accuracy: 0.318163 val accuracy: 0.331000\n",
      "lr 5.000000e-07 reg 4.900000e+04 train accuracy: 0.319714 val accuracy: 0.342000\n",
      "lr 5.000000e-07 reg 5.000000e+04 train accuracy: 0.328265 val accuracy: 0.344000\n",
      "lr 5.000000e-07 reg 5.100000e+04 train accuracy: 0.322245 val accuracy: 0.343000\n",
      "lr 5.000000e-07 reg 5.200000e+04 train accuracy: 0.316837 val accuracy: 0.336000\n",
      "lr 5.000000e-07 reg 5.300000e+04 train accuracy: 0.327714 val accuracy: 0.336000\n",
      "best validation accuracy achieved during cross-validation: 0.395000\n"
     ]
    }
   ],
   "source": [
    "# Use the validation set to tune hyperparameters (regularization strength and\n",
    "# learning rate). You should experiment with different ranges for the learning\n",
    "# rates and regularization strengths; if you are careful you should be able to\n",
    "# get a classification accuracy of over 0.35 on the validation set.\n",
    "from cs231n.classifiers import Softmax\n",
    "results = {}\n",
    "best_val = -1\n",
    "best_softmax = None\n",
    "learning_rates = [1e-7, 2e-7, 5e-7]\n",
    "#regularization_strengths = [5e4, 1e8]\n",
    "regularization_strengths =[(1+0.1*i)*1e4 for i in range(-3,4)] + [(5+0.1*i)*1e4 for i in range(-3,4)]\n",
    "\n",
    "################################################################################\n",
    "# TODO:                                                                        #\n",
    "# Use the validation set to set the learning rate and regularization strength. #\n",
    "# This should be identical to the validation that you did for the SVM; save    #\n",
    "# the best trained softmax classifer in best_softmax.                          #\n",
    "################################################################################\n",
    "# *****START OF YOUR CODE (DO NOT DELETE/MODIFY THIS LINE)*****\n",
    "\n",
    "for rs in regularization_strengths:\n",
    "    for lr in learning_rates:    \n",
    "        softmax=Softmax()\n",
    "        loss_history=softmax.train(X_train, y_train, lr, rs, num_iters=3000)\n",
    "        y_train_pred = softmax.predict(X_train)\n",
    "        train_accuracy=np.mean(y_train == y_train_pred)\n",
    "        y_val_pred = softmax.predict(X_val)\n",
    "        val_accuracy = np.mean(y_val == y_val_pred)\n",
    "        if val_accuracy > best_val:\n",
    "            best_val=val_accuracy\n",
    "            best_softmax=softmax\n",
    "        results[(lr,rs)] = train_accuracy, val_accuracy\n",
    "        \n",
    "\n",
    "# *****END OF YOUR CODE (DO NOT DELETE/MODIFY THIS LINE)*****\n",
    "    \n",
    "# Print out results.\n",
    "for lr, reg in sorted(results):\n",
    "    train_accuracy, val_accuracy = results[(lr, reg)]\n",
    "    print('lr %e reg %e train accuracy: %f val accuracy: %f' % (\n",
    "                lr, reg, train_accuracy, val_accuracy))\n",
    "    \n",
    "print('best validation accuracy achieved during cross-validation: %f' % best_val)"
   ]
  },
  {
   "cell_type": "code",
   "execution_count": 9,
   "metadata": {},
   "outputs": [
    {
     "name": "stdout",
     "output_type": "stream",
     "text": [
      "softmax on raw pixels final test set accuracy: 0.372000\n"
     ]
    }
   ],
   "source": [
    "# evaluate on test set\n",
    "# Evaluate the best softmax on test set\n",
    "y_test_pred = best_softmax.predict(X_test)\n",
    "test_accuracy = np.mean(y_test == y_test_pred)\n",
    "print('softmax on raw pixels final test set accuracy: %f' % (test_accuracy, ))"
   ]
  },
  {
   "cell_type": "markdown",
   "metadata": {
    "tags": [
     "pdf-inline"
    ]
   },
   "source": [
    "**Inline Question 2** - *True or False*\n",
    "\n",
    "Suppose the overall training loss is defined as the sum of the per-datapoint loss over all training examples. It is possible to add a new datapoint to a training set that would leave the SVM loss unchanged, but this is not the case with the Softmax classifier loss.\n",
    "\n",
    "$\\color{blue}{\\textit Your Answer:}correct$\n",
    "\n",
    "\n",
    "$\\color{blue}{\\textit Your Explanation:}\n",
    "\n",
    "In the SVM if the new data point has a score that is out of the margin range from the correct class score the loss wouldn't change but in the Softmax loss if the score of the new added datapoint be close to +infinity it will adversely affect the loss, but definitely the loss of Softmax will change.\n",
    "SVM loss due to the newly added function calculating test image if the classification is correct, some loss is 0; but with softmax terms, regardless of the classification is correct, loss will always be present, even loss close to 0, but overall, the loss of value has changed.\n",
    "\n",
    "$\n",
    "\n"
   ]
  },
  {
   "cell_type": "code",
   "execution_count": 10,
   "metadata": {},
   "outputs": [
    {
     "data": {
      "image/png": "[encoded data removed]",
      "text/plain": [
       "<Figure size 720x576 with 10 Axes>"
      ]
     },
     "metadata": {
      "needs_background": "light"
     },
     "output_type": "display_data"
    }
   ],
   "source": [
    "# Visualize the learned weights for each class\n",
    "w = best_softmax.W[:-1,:] # strip out the bias\n",
    "w = w.reshape(32, 32, 3, 10)\n",
    "\n",
    "w_min, w_max = np.min(w), np.max(w)\n",
    "\n",
    "classes = ['plane', 'car', 'bird', 'cat', 'deer', 'dog', 'frog', 'horse', 'ship', 'truck']\n",
    "for i in range(10):\n",
    "    plt.subplot(2, 5, i + 1)\n",
    "    \n",
    "    # Rescale the weights to be between 0 and 255\n",
    "    wimg = 255.0 * (w[:, :, :, i].squeeze() - w_min) / (w_max - w_min)\n",
    "    plt.imshow(wimg.astype('uint8'))\n",
    "    plt.axis('off')\n",
    "    plt.title(classes[i])"
   ]
  },
  {
   "cell_type": "code",
   "execution_count": null,
   "metadata": {},
   "outputs": [],
   "source": []
  }
 ],
 "metadata": {
  "kernelspec": {
   "display_name": "Python 3",
   "language": "python",
   "name": "python3"
  },
  "language_info": {
   "codemirror_mode": {
    "name": "ipython",
    "version": 3
   },
   "file_extension": ".py",
   "mimetype": "text/x-python",
   "name": "python",
   "nbconvert_exporter": "python",
   "pygments_lexer": "ipython3",
   "version": "3.7.7"
  }
 },
 "nbformat": 4,
 "nbformat_minor": 1
}
